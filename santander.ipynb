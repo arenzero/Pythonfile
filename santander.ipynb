{
 "cells": [
  {
   "cell_type": "code",
   "execution_count": 1,
   "metadata": {},
   "outputs": [],
   "source": [
    "import pandas as pd"
   ]
  },
  {
   "cell_type": "code",
   "execution_count": 2,
   "metadata": {},
   "outputs": [],
   "source": [
    "train = pd.read_csv(\"santander/train.csv\")\n",
    "test = pd.read_csv(\"santander/test.csv\")\n",
    "sample = pd.read_csv(\"santander/sample_submission.csv\")"
   ]
  },
  {
   "cell_type": "code",
   "execution_count": 5,
   "metadata": {},
   "outputs": [
    {
     "data": {
      "text/html": [
       "<div>\n",
       "<style scoped>\n",
       "    .dataframe tbody tr th:only-of-type {\n",
       "        vertical-align: middle;\n",
       "    }\n",
       "\n",
       "    .dataframe tbody tr th {\n",
       "        vertical-align: top;\n",
       "    }\n",
       "\n",
       "    .dataframe thead th {\n",
       "        text-align: right;\n",
       "    }\n",
       "</style>\n",
       "<table border=\"1\" class=\"dataframe\">\n",
       "  <thead>\n",
       "    <tr style=\"text-align: right;\">\n",
       "      <th></th>\n",
       "      <th>ID_code</th>\n",
       "      <th>target</th>\n",
       "      <th>var_0</th>\n",
       "      <th>var_1</th>\n",
       "      <th>var_2</th>\n",
       "      <th>var_3</th>\n",
       "      <th>var_4</th>\n",
       "      <th>var_5</th>\n",
       "      <th>var_6</th>\n",
       "      <th>var_7</th>\n",
       "      <th>...</th>\n",
       "      <th>var_190</th>\n",
       "      <th>var_191</th>\n",
       "      <th>var_192</th>\n",
       "      <th>var_193</th>\n",
       "      <th>var_194</th>\n",
       "      <th>var_195</th>\n",
       "      <th>var_196</th>\n",
       "      <th>var_197</th>\n",
       "      <th>var_198</th>\n",
       "      <th>var_199</th>\n",
       "    </tr>\n",
       "  </thead>\n",
       "  <tbody>\n",
       "    <tr>\n",
       "      <th>0</th>\n",
       "      <td>train_0</td>\n",
       "      <td>0</td>\n",
       "      <td>8.9255</td>\n",
       "      <td>-6.7863</td>\n",
       "      <td>11.9081</td>\n",
       "      <td>5.0930</td>\n",
       "      <td>11.4607</td>\n",
       "      <td>-9.2834</td>\n",
       "      <td>5.1187</td>\n",
       "      <td>18.6266</td>\n",
       "      <td>...</td>\n",
       "      <td>4.4354</td>\n",
       "      <td>3.9642</td>\n",
       "      <td>3.1364</td>\n",
       "      <td>1.6910</td>\n",
       "      <td>18.5227</td>\n",
       "      <td>-2.3978</td>\n",
       "      <td>7.8784</td>\n",
       "      <td>8.5635</td>\n",
       "      <td>12.7803</td>\n",
       "      <td>-1.0914</td>\n",
       "    </tr>\n",
       "    <tr>\n",
       "      <th>1</th>\n",
       "      <td>train_1</td>\n",
       "      <td>0</td>\n",
       "      <td>11.5006</td>\n",
       "      <td>-4.1473</td>\n",
       "      <td>13.8588</td>\n",
       "      <td>5.3890</td>\n",
       "      <td>12.3622</td>\n",
       "      <td>7.0433</td>\n",
       "      <td>5.6208</td>\n",
       "      <td>16.5338</td>\n",
       "      <td>...</td>\n",
       "      <td>7.6421</td>\n",
       "      <td>7.7214</td>\n",
       "      <td>2.5837</td>\n",
       "      <td>10.9516</td>\n",
       "      <td>15.4305</td>\n",
       "      <td>2.0339</td>\n",
       "      <td>8.1267</td>\n",
       "      <td>8.7889</td>\n",
       "      <td>18.3560</td>\n",
       "      <td>1.9518</td>\n",
       "    </tr>\n",
       "    <tr>\n",
       "      <th>2</th>\n",
       "      <td>train_2</td>\n",
       "      <td>0</td>\n",
       "      <td>8.6093</td>\n",
       "      <td>-2.7457</td>\n",
       "      <td>12.0805</td>\n",
       "      <td>7.8928</td>\n",
       "      <td>10.5825</td>\n",
       "      <td>-9.0837</td>\n",
       "      <td>6.9427</td>\n",
       "      <td>14.6155</td>\n",
       "      <td>...</td>\n",
       "      <td>2.9057</td>\n",
       "      <td>9.7905</td>\n",
       "      <td>1.6704</td>\n",
       "      <td>1.6858</td>\n",
       "      <td>21.6042</td>\n",
       "      <td>3.1417</td>\n",
       "      <td>-6.5213</td>\n",
       "      <td>8.2675</td>\n",
       "      <td>14.7222</td>\n",
       "      <td>0.3965</td>\n",
       "    </tr>\n",
       "    <tr>\n",
       "      <th>3</th>\n",
       "      <td>train_3</td>\n",
       "      <td>0</td>\n",
       "      <td>11.0604</td>\n",
       "      <td>-2.1518</td>\n",
       "      <td>8.9522</td>\n",
       "      <td>7.1957</td>\n",
       "      <td>12.5846</td>\n",
       "      <td>-1.8361</td>\n",
       "      <td>5.8428</td>\n",
       "      <td>14.9250</td>\n",
       "      <td>...</td>\n",
       "      <td>4.4666</td>\n",
       "      <td>4.7433</td>\n",
       "      <td>0.7178</td>\n",
       "      <td>1.4214</td>\n",
       "      <td>23.0347</td>\n",
       "      <td>-1.2706</td>\n",
       "      <td>-2.9275</td>\n",
       "      <td>10.2922</td>\n",
       "      <td>17.9697</td>\n",
       "      <td>-8.9996</td>\n",
       "    </tr>\n",
       "    <tr>\n",
       "      <th>4</th>\n",
       "      <td>train_4</td>\n",
       "      <td>0</td>\n",
       "      <td>9.8369</td>\n",
       "      <td>-1.4834</td>\n",
       "      <td>12.8746</td>\n",
       "      <td>6.6375</td>\n",
       "      <td>12.2772</td>\n",
       "      <td>2.4486</td>\n",
       "      <td>5.9405</td>\n",
       "      <td>19.2514</td>\n",
       "      <td>...</td>\n",
       "      <td>-1.4905</td>\n",
       "      <td>9.5214</td>\n",
       "      <td>-0.1508</td>\n",
       "      <td>9.1942</td>\n",
       "      <td>13.2876</td>\n",
       "      <td>-1.5121</td>\n",
       "      <td>3.9267</td>\n",
       "      <td>9.5031</td>\n",
       "      <td>17.9974</td>\n",
       "      <td>-8.8104</td>\n",
       "    </tr>\n",
       "  </tbody>\n",
       "</table>\n",
       "<p>5 rows × 202 columns</p>\n",
       "</div>"
      ],
      "text/plain": [
       "   ID_code  target    var_0   var_1    var_2   var_3    var_4   var_5   var_6  \\\n",
       "0  train_0       0   8.9255 -6.7863  11.9081  5.0930  11.4607 -9.2834  5.1187   \n",
       "1  train_1       0  11.5006 -4.1473  13.8588  5.3890  12.3622  7.0433  5.6208   \n",
       "2  train_2       0   8.6093 -2.7457  12.0805  7.8928  10.5825 -9.0837  6.9427   \n",
       "3  train_3       0  11.0604 -2.1518   8.9522  7.1957  12.5846 -1.8361  5.8428   \n",
       "4  train_4       0   9.8369 -1.4834  12.8746  6.6375  12.2772  2.4486  5.9405   \n",
       "\n",
       "     var_7  ...  var_190  var_191  var_192  var_193  var_194  var_195  \\\n",
       "0  18.6266  ...   4.4354   3.9642   3.1364   1.6910  18.5227  -2.3978   \n",
       "1  16.5338  ...   7.6421   7.7214   2.5837  10.9516  15.4305   2.0339   \n",
       "2  14.6155  ...   2.9057   9.7905   1.6704   1.6858  21.6042   3.1417   \n",
       "3  14.9250  ...   4.4666   4.7433   0.7178   1.4214  23.0347  -1.2706   \n",
       "4  19.2514  ...  -1.4905   9.5214  -0.1508   9.1942  13.2876  -1.5121   \n",
       "\n",
       "   var_196  var_197  var_198  var_199  \n",
       "0   7.8784   8.5635  12.7803  -1.0914  \n",
       "1   8.1267   8.7889  18.3560   1.9518  \n",
       "2  -6.5213   8.2675  14.7222   0.3965  \n",
       "3  -2.9275  10.2922  17.9697  -8.9996  \n",
       "4   3.9267   9.5031  17.9974  -8.8104  \n",
       "\n",
       "[5 rows x 202 columns]"
      ]
     },
     "metadata": {},
     "output_type": "display_data"
    },
    {
     "data": {
      "text/html": [
       "<div>\n",
       "<style scoped>\n",
       "    .dataframe tbody tr th:only-of-type {\n",
       "        vertical-align: middle;\n",
       "    }\n",
       "\n",
       "    .dataframe tbody tr th {\n",
       "        vertical-align: top;\n",
       "    }\n",
       "\n",
       "    .dataframe thead th {\n",
       "        text-align: right;\n",
       "    }\n",
       "</style>\n",
       "<table border=\"1\" class=\"dataframe\">\n",
       "  <thead>\n",
       "    <tr style=\"text-align: right;\">\n",
       "      <th></th>\n",
       "      <th>ID_code</th>\n",
       "      <th>target</th>\n",
       "    </tr>\n",
       "  </thead>\n",
       "  <tbody>\n",
       "    <tr>\n",
       "      <th>0</th>\n",
       "      <td>test_0</td>\n",
       "      <td>0</td>\n",
       "    </tr>\n",
       "    <tr>\n",
       "      <th>1</th>\n",
       "      <td>test_1</td>\n",
       "      <td>0</td>\n",
       "    </tr>\n",
       "    <tr>\n",
       "      <th>2</th>\n",
       "      <td>test_2</td>\n",
       "      <td>0</td>\n",
       "    </tr>\n",
       "    <tr>\n",
       "      <th>3</th>\n",
       "      <td>test_3</td>\n",
       "      <td>0</td>\n",
       "    </tr>\n",
       "    <tr>\n",
       "      <th>4</th>\n",
       "      <td>test_4</td>\n",
       "      <td>0</td>\n",
       "    </tr>\n",
       "  </tbody>\n",
       "</table>\n",
       "</div>"
      ],
      "text/plain": [
       "  ID_code  target\n",
       "0  test_0       0\n",
       "1  test_1       0\n",
       "2  test_2       0\n",
       "3  test_3       0\n",
       "4  test_4       0"
      ]
     },
     "metadata": {},
     "output_type": "display_data"
    }
   ],
   "source": [
    "display(train.head())\n",
    "display(sample.head())"
   ]
  },
  {
   "cell_type": "code",
   "execution_count": 6,
   "metadata": {},
   "outputs": [
    {
     "name": "stdout",
     "output_type": "stream",
     "text": [
      "(200000, 202) (200000, 201)\n",
      "<class 'pandas.core.frame.DataFrame'>\n",
      "Int64Index: 400000 entries, 0 to 199999\n",
      "Columns: 200 entries, var_0 to var_199\n",
      "dtypes: float64(200)\n",
      "memory usage: 613.4 MB\n"
     ]
    },
    {
     "data": {
      "text/plain": [
       "None"
      ]
     },
     "metadata": {},
     "output_type": "display_data"
    }
   ],
   "source": [
    "print(train.shape,test.shape)\n",
    "full = pd.concat([train.drop(\"target\",axis=1),test])\n",
    "full = full.drop(\"ID_code\",axis=1)\n",
    "display(full.info())"
   ]
  },
  {
   "cell_type": "code",
   "execution_count": 12,
   "metadata": {},
   "outputs": [],
   "source": [
    "from sklearn.model_selection import train_test_split\n",
    "X = train.iloc[:,2:]\n",
    "y = train.iloc[:,1]\n",
    "train_X,test_X,train_y,test_y = train_test_split(X,y,test_size = 0.5,random_state=0)"
   ]
  },
  {
   "cell_type": "code",
   "execution_count": 13,
   "metadata": {
    "scrolled": true
   },
   "outputs": [
    {
     "name": "stdout",
     "output_type": "stream",
     "text": [
      "RandomForest score\n",
      "0.899790000159916 7.995800003157694e-06\n",
      "0.899790000159916 7.995800003157694e-06\n",
      "testscore: 0.89923\n"
     ]
    }
   ],
   "source": [
    "import xgboost as xgb\n",
    "from sklearn.ensemble import RandomForestClassifier\n",
    "from sklearn.model_selection import cross_validate\n",
    "\n",
    "'''\n",
    "print(\"xgb score\")\n",
    "clf = xgb.XGBClassifier(max_depth=5, n_estimators=200, learning_rate=0.05)\n",
    "model = cross_validate(clf,train_X,train_y,cv=2,return_train_score=True)\n",
    "print(model[\"train_score\"].mean(),model[\"train_score\"].std())\n",
    "print(model[\"test_score\"].mean(),model[\"test_score\"].std())\n",
    "clf.fit(train_X,train_y)\n",
    "print(\"testscore:\",clf.score(test_X,test_y))\n",
    "'''\n",
    "\n",
    "print(\"RandomForest score\")\n",
    "clf = RandomForestClassifier(max_depth=5, n_estimators=200)\n",
    "model = cross_validate(clf,train_X,train_y,cv=2,return_train_score=True)\n",
    "print(model[\"train_score\"].mean(),model[\"train_score\"].std())\n",
    "print(model[\"test_score\"].mean(),model[\"test_score\"].std())\n",
    "\n",
    "clf.fit(train_X,train_y)\n",
    "print(\"testscore:\",clf.score(test_X,test_y))"
   ]
  },
  {
   "cell_type": "code",
   "execution_count": 15,
   "metadata": {},
   "outputs": [
    {
     "data": {
      "text/plain": [
       "array([0.899782, 0.899798])"
      ]
     },
     "execution_count": 15,
     "metadata": {},
     "output_type": "execute_result"
    }
   ],
   "source": [
    "model[\"test_score\"]"
   ]
  },
  {
   "cell_type": "code",
   "execution_count": 17,
   "metadata": {},
   "outputs": [],
   "source": [
    "pred=clf.predict(test.iloc[:,1:])\n",
    "submission = pd.DataFrame({\n",
    "        \"ID_code\": test[\"ID_code\"],\n",
    "        \"target\": pred\n",
    "    })\n",
    "submission.head()\n",
    "submission.to_csv('submission.csv', index=False)"
   ]
  },
  {
   "cell_type": "code",
   "execution_count": 27,
   "metadata": {},
   "outputs": [
    {
     "data": {
      "text/plain": [
       "0.10049"
      ]
     },
     "execution_count": 27,
     "metadata": {},
     "output_type": "execute_result"
    }
   ],
   "source": [
    "train[\"target\"].sum()/len(train)"
   ]
  },
  {
   "cell_type": "code",
   "execution_count": 29,
   "metadata": {},
   "outputs": [
    {
     "data": {
      "text/plain": [
       "(200000, 200)"
      ]
     },
     "execution_count": 29,
     "metadata": {},
     "output_type": "execute_result"
    }
   ],
   "source": [
    "train.iloc[:,2:].shape"
   ]
  },
  {
   "cell_type": "code",
   "execution_count": 31,
   "metadata": {},
   "outputs": [
    {
     "data": {
      "text/plain": [
       "(200000, 200)"
      ]
     },
     "execution_count": 31,
     "metadata": {},
     "output_type": "execute_result"
    }
   ],
   "source": [
    "test.iloc[:,1:].shape"
   ]
  },
  {
   "cell_type": "code",
   "execution_count": 65,
   "metadata": {},
   "outputs": [
    {
     "data": {
      "text/html": [
       "<div>\n",
       "<style scoped>\n",
       "    .dataframe tbody tr th:only-of-type {\n",
       "        vertical-align: middle;\n",
       "    }\n",
       "\n",
       "    .dataframe tbody tr th {\n",
       "        vertical-align: top;\n",
       "    }\n",
       "\n",
       "    .dataframe thead th {\n",
       "        text-align: right;\n",
       "    }\n",
       "</style>\n",
       "<table border=\"1\" class=\"dataframe\">\n",
       "  <thead>\n",
       "    <tr style=\"text-align: right;\">\n",
       "      <th></th>\n",
       "      <th>ID_code</th>\n",
       "      <th>target</th>\n",
       "      <th>var_0</th>\n",
       "      <th>var_1</th>\n",
       "      <th>var_2</th>\n",
       "      <th>var_3</th>\n",
       "      <th>var_4</th>\n",
       "      <th>var_5</th>\n",
       "      <th>var_6</th>\n",
       "      <th>var_7</th>\n",
       "      <th>...</th>\n",
       "      <th>var_190</th>\n",
       "      <th>var_191</th>\n",
       "      <th>var_192</th>\n",
       "      <th>var_193</th>\n",
       "      <th>var_194</th>\n",
       "      <th>var_195</th>\n",
       "      <th>var_196</th>\n",
       "      <th>var_197</th>\n",
       "      <th>var_198</th>\n",
       "      <th>var_199</th>\n",
       "    </tr>\n",
       "  </thead>\n",
       "  <tbody>\n",
       "    <tr>\n",
       "      <th>196051</th>\n",
       "      <td>train_196051</td>\n",
       "      <td>1</td>\n",
       "      <td>13.2550</td>\n",
       "      <td>6.2935</td>\n",
       "      <td>14.5240</td>\n",
       "      <td>7.4259</td>\n",
       "      <td>10.3731</td>\n",
       "      <td>-12.4433</td>\n",
       "      <td>5.7332</td>\n",
       "      <td>18.5987</td>\n",
       "      <td>...</td>\n",
       "      <td>-0.1488</td>\n",
       "      <td>12.6130</td>\n",
       "      <td>0.2644</td>\n",
       "      <td>5.1511</td>\n",
       "      <td>17.4276</td>\n",
       "      <td>2.3515</td>\n",
       "      <td>-5.7334</td>\n",
       "      <td>10.2903</td>\n",
       "      <td>15.1350</td>\n",
       "      <td>11.4468</td>\n",
       "    </tr>\n",
       "    <tr>\n",
       "      <th>20138</th>\n",
       "      <td>train_20138</td>\n",
       "      <td>1</td>\n",
       "      <td>13.9009</td>\n",
       "      <td>-4.9679</td>\n",
       "      <td>11.3716</td>\n",
       "      <td>6.5470</td>\n",
       "      <td>12.1373</td>\n",
       "      <td>5.6846</td>\n",
       "      <td>4.8031</td>\n",
       "      <td>16.8994</td>\n",
       "      <td>...</td>\n",
       "      <td>0.9810</td>\n",
       "      <td>9.3569</td>\n",
       "      <td>0.5672</td>\n",
       "      <td>1.4267</td>\n",
       "      <td>22.7532</td>\n",
       "      <td>1.4910</td>\n",
       "      <td>6.3687</td>\n",
       "      <td>8.7561</td>\n",
       "      <td>16.4306</td>\n",
       "      <td>-13.9519</td>\n",
       "    </tr>\n",
       "    <tr>\n",
       "      <th>9191</th>\n",
       "      <td>train_9191</td>\n",
       "      <td>0</td>\n",
       "      <td>6.6170</td>\n",
       "      <td>2.1974</td>\n",
       "      <td>13.1309</td>\n",
       "      <td>7.2332</td>\n",
       "      <td>10.6548</td>\n",
       "      <td>-1.9190</td>\n",
       "      <td>5.7056</td>\n",
       "      <td>12.6975</td>\n",
       "      <td>...</td>\n",
       "      <td>0.3371</td>\n",
       "      <td>11.0356</td>\n",
       "      <td>1.4780</td>\n",
       "      <td>3.6111</td>\n",
       "      <td>19.1937</td>\n",
       "      <td>0.4218</td>\n",
       "      <td>-5.0395</td>\n",
       "      <td>10.4211</td>\n",
       "      <td>19.4929</td>\n",
       "      <td>-2.8482</td>\n",
       "    </tr>\n",
       "    <tr>\n",
       "      <th>163020</th>\n",
       "      <td>train_163020</td>\n",
       "      <td>1</td>\n",
       "      <td>14.0884</td>\n",
       "      <td>-5.0170</td>\n",
       "      <td>7.6302</td>\n",
       "      <td>5.5834</td>\n",
       "      <td>11.6152</td>\n",
       "      <td>-3.3844</td>\n",
       "      <td>4.7681</td>\n",
       "      <td>21.1267</td>\n",
       "      <td>...</td>\n",
       "      <td>-4.7785</td>\n",
       "      <td>13.0373</td>\n",
       "      <td>1.3055</td>\n",
       "      <td>4.7254</td>\n",
       "      <td>13.8450</td>\n",
       "      <td>-0.6965</td>\n",
       "      <td>4.9384</td>\n",
       "      <td>8.1010</td>\n",
       "      <td>18.3330</td>\n",
       "      <td>-4.7157</td>\n",
       "    </tr>\n",
       "    <tr>\n",
       "      <th>120898</th>\n",
       "      <td>train_120898</td>\n",
       "      <td>1</td>\n",
       "      <td>7.4291</td>\n",
       "      <td>2.6190</td>\n",
       "      <td>13.6420</td>\n",
       "      <td>8.8007</td>\n",
       "      <td>12.6953</td>\n",
       "      <td>-5.4826</td>\n",
       "      <td>4.7049</td>\n",
       "      <td>16.6292</td>\n",
       "      <td>...</td>\n",
       "      <td>0.5248</td>\n",
       "      <td>9.6973</td>\n",
       "      <td>-0.2276</td>\n",
       "      <td>3.5983</td>\n",
       "      <td>22.3815</td>\n",
       "      <td>-0.7096</td>\n",
       "      <td>4.1032</td>\n",
       "      <td>9.3116</td>\n",
       "      <td>17.0245</td>\n",
       "      <td>11.2197</td>\n",
       "    </tr>\n",
       "  </tbody>\n",
       "</table>\n",
       "<p>5 rows × 202 columns</p>\n",
       "</div>"
      ],
      "text/plain": [
       "             ID_code  target    var_0   var_1    var_2   var_3    var_4  \\\n",
       "196051  train_196051       1  13.2550  6.2935  14.5240  7.4259  10.3731   \n",
       "20138    train_20138       1  13.9009 -4.9679  11.3716  6.5470  12.1373   \n",
       "9191      train_9191       0   6.6170  2.1974  13.1309  7.2332  10.6548   \n",
       "163020  train_163020       1  14.0884 -5.0170   7.6302  5.5834  11.6152   \n",
       "120898  train_120898       1   7.4291  2.6190  13.6420  8.8007  12.6953   \n",
       "\n",
       "          var_5   var_6    var_7  ...  var_190  var_191  var_192  var_193  \\\n",
       "196051 -12.4433  5.7332  18.5987  ...  -0.1488  12.6130   0.2644   5.1511   \n",
       "20138    5.6846  4.8031  16.8994  ...   0.9810   9.3569   0.5672   1.4267   \n",
       "9191    -1.9190  5.7056  12.6975  ...   0.3371  11.0356   1.4780   3.6111   \n",
       "163020  -3.3844  4.7681  21.1267  ...  -4.7785  13.0373   1.3055   4.7254   \n",
       "120898  -5.4826  4.7049  16.6292  ...   0.5248   9.6973  -0.2276   3.5983   \n",
       "\n",
       "        var_194  var_195  var_196  var_197  var_198  var_199  \n",
       "196051  17.4276   2.3515  -5.7334  10.2903  15.1350  11.4468  \n",
       "20138   22.7532   1.4910   6.3687   8.7561  16.4306 -13.9519  \n",
       "9191    19.1937   0.4218  -5.0395  10.4211  19.4929  -2.8482  \n",
       "163020  13.8450  -0.6965   4.9384   8.1010  18.3330  -4.7157  \n",
       "120898  22.3815  -0.7096   4.1032   9.3116  17.0245  11.2197  \n",
       "\n",
       "[5 rows x 202 columns]"
      ]
     },
     "execution_count": 65,
     "metadata": {},
     "output_type": "execute_result"
    }
   ],
   "source": [
    "train1 = train[train[\"target\"]==1]\n",
    "train0 = train[train[\"target\"]==0].sample(n=20000)\n",
    "train_s = pd.concat([train1,train0])\n",
    "train_s = train_s.sample(frac=1)\n",
    "train_s.head()"
   ]
  },
  {
   "cell_type": "code",
   "execution_count": 66,
   "metadata": {},
   "outputs": [],
   "source": [
    "X = train_s.iloc[:,2:]\n",
    "y = train_s.iloc[:,1]\n",
    "train_X,test_X,train_y,test_y = train_test_split(X,y,test_size = 0.5,random_state=0)"
   ]
  },
  {
   "cell_type": "code",
   "execution_count": 69,
   "metadata": {},
   "outputs": [],
   "source": [
    "pred=clf.predict(test.iloc[:,1:])\n",
    "submission = pd.DataFrame({\n",
    "        \"ID_code\": test[\"ID_code\"],\n",
    "        \"target\": pred\n",
    "    })\n",
    "submission.head()\n",
    "submission.to_csv('submission.csv', index=False)"
   ]
  },
  {
   "cell_type": "code",
   "execution_count": 68,
   "metadata": {},
   "outputs": [
    {
     "name": "stdout",
     "output_type": "stream",
     "text": [
      "max_depth= 3 n_estimatiors= 200 learning_rate= 0.1\n",
      "trainscore: 0.8512644022145743\n",
      "testscore: 0.771360167589406\n",
      "max_depth= 3 n_estimatiors= 200 learning_rate= 0.2\n",
      "trainscore: 0.8919646865180308\n",
      "testscore: 0.7840790064342361\n",
      "max_depth= 3 n_estimatiors= 300 learning_rate= 0.1\n",
      "trainscore: 0.8783480472841538\n",
      "testscore: 0.7826824280512744\n",
      "max_depth= 3 n_estimatiors= 300 learning_rate= 0.2\n",
      "trainscore: 0.9176517532046486\n",
      "testscore: 0.7929572547259215\n"
     ]
    }
   ],
   "source": [
    "for max_depth in [3]:\n",
    "    for n in [200,300]:\n",
    "        for lr in [0.1,0.2]:\n",
    "            clf = xgb.XGBClassifier(max_depth=max_depth, n_estimators=n, learning_rate=lr)\n",
    "            print(\"max_depth=\",max_depth,\"n_estimatiors=\",n,\"learning_rate=\",lr)\n",
    "            clf.fit(train_X,train_y)\n",
    "            print(\"trainscore:\",clf.score(train_X,train_y))\n",
    "            print(\"testscore:\",clf.score(test_X,test_y))"
   ]
  },
  {
   "cell_type": "code",
   "execution_count": 61,
   "metadata": {},
   "outputs": [],
   "source": [
    "cor = train_s.corr()\n",
    "i = cor[\"target\"][(cor[\"target\"]>0.07) | (cor[\"target\"]<-0.07)].index\n",
    "train_s = train_s[i]\n",
    "X = train_s.iloc[:,1:]\n",
    "y = train_s.iloc[:,0]\n",
    "train_X,test_X,train_y,test_y = train_test_split(X,y,test_size = 0.5,random_state=0)"
   ]
  },
  {
   "cell_type": "code",
   "execution_count": 62,
   "metadata": {},
   "outputs": [
    {
     "name": "stdout",
     "output_type": "stream",
     "text": [
      "RandomForest score\n",
      "0.7260462383375643 0.001915984783584825\n",
      "0.686318319532176 0.009311344280469307\n",
      "testscore: 0.6851214524415182\n"
     ]
    }
   ],
   "source": [
    "print(\"RandomForest score\")\n",
    "clf = RandomForestClassifier(max_depth=5, n_estimators=500)\n",
    "model = cross_validate(clf,train_X,train_y,cv=5,return_train_score=True)\n",
    "print(model[\"train_score\"].mean(),model[\"train_score\"].std())\n",
    "print(model[\"test_score\"].mean(),model[\"test_score\"].std())\n",
    "\n",
    "clf.fit(train_X,train_y)\n",
    "print(\"testscore:\",clf.score(test_X,test_y))"
   ]
  }
 ],
 "metadata": {
  "kernelspec": {
   "display_name": "Python 3",
   "language": "python",
   "name": "python3"
  },
  "language_info": {
   "codemirror_mode": {
    "name": "ipython",
    "version": 3
   },
   "file_extension": ".py",
   "mimetype": "text/x-python",
   "name": "python",
   "nbconvert_exporter": "python",
   "pygments_lexer": "ipython3",
   "version": "3.7.3"
  }
 },
 "nbformat": 4,
 "nbformat_minor": 2
}
